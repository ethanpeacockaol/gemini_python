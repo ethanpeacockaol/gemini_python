{
 "cells": [
  {
   "metadata": {
    "trusted": false
   },
   "cell_type": "code",
   "source": "import matplotlib.pyplot as plt\nimport numpy as np",
   "execution_count": 1,
   "outputs": []
  },
  {
   "metadata": {
    "trusted": false
   },
   "cell_type": "code",
   "source": "x = np.array([i for i in range(1,101)])\ny = np.sin(x)",
   "execution_count": 2,
   "outputs": []
  },
  {
   "metadata": {
    "trusted": false
   },
   "cell_type": "code",
   "source": "name = 0\nfor i in range(len(x)):\n    plt.plot(x[:i],y[:i])\n    plt.savefig(f\"imgs/{name}.png\")\n    plt.close()\n    name += 1",
   "execution_count": 6,
   "outputs": []
  },
  {
   "metadata": {
    "trusted": false
   },
   "cell_type": "code",
   "source": "",
   "execution_count": null,
   "outputs": []
  },
  {
   "metadata": {
    "trusted": false
   },
   "cell_type": "code",
   "source": "",
   "execution_count": null,
   "outputs": []
  },
  {
   "metadata": {
    "trusted": true
   },
   "cell_type": "code",
   "source": "from PIL import Image\n\ndef create_gif(image_paths, output_path, duration=100):\n        \"\"\"\n        Creates a GIF from a list of image paths.\n\n        Args:\n            image_paths (list): List of image file paths.\n            output_path (str): Path to save the output GIF.\n            duration (int, optional): Duration of each frame in milliseconds. Defaults to 100.\n        \"\"\"\n        frames = [Image.open(image_path) for image_path in image_paths]\n        frames[0].save(output_path, save_all=True, append_images=frames[1:], duration=duration, loop=0)\n\n    # Example usage:\nname = 0\nimage_files = []\nfor i in range(100):\n    image_files.append(f\"imgs/{i}.png\")\ncreate_gif(image_files, 'my_animation.gif', duration=200)\n",
   "execution_count": 5,
   "outputs": []
  },
  {
   "metadata": {
    "trusted": true
   },
   "cell_type": "code",
   "source": "",
   "execution_count": null,
   "outputs": []
  }
 ],
 "metadata": {
  "kernelspec": {
   "name": "python3",
   "display_name": "Python 3",
   "language": "python"
  },
  "language_info": {
   "name": "python",
   "version": "3.10.4",
   "mimetype": "text/x-python",
   "codemirror_mode": {
    "name": "ipython",
    "version": 3
   },
   "pygments_lexer": "ipython3",
   "nbconvert_exporter": "python",
   "file_extension": ".py"
  }
 },
 "nbformat": 4,
 "nbformat_minor": 2
}