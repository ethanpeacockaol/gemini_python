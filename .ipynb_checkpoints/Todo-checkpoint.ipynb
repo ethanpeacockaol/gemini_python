{
 "cells": [
  {
   "cell_type": "markdown",
   "id": "780296da-02e2-4aa5-82c8-8a1f2ed0291e",
   "metadata": {},
   "source": [
    "# Gemini Python Challenges\n",
    "\n",
    "todo\n"
   ]
  },
  {
   "cell_type": "code",
   "execution_count": null,
   "id": "eb1b186e-760b-4002-8fed-9a8c265ee5bd",
   "metadata": {},
   "outputs": [],
   "source": []
  }
 ],
 "metadata": {
  "kernelspec": {
   "display_name": "Python 3 (ipykernel)",
   "language": "python",
   "name": "python3"
  },
  "language_info": {
   "codemirror_mode": {
    "name": "ipython",
    "version": 3
   },
   "file_extension": ".py",
   "mimetype": "text/x-python",
   "name": "python",
   "nbconvert_exporter": "python",
   "pygments_lexer": "ipython3",
   "version": "3.12.10"
  }
 },
 "nbformat": 4,
 "nbformat_minor": 5
}
