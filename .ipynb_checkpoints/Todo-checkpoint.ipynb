{
 "cells": [
  {
   "cell_type": "markdown",
   "id": "780296da-02e2-4aa5-82c8-8a1f2ed0291e",
   "metadata": {},
   "source": [
    "# Gemini Python Challenges\n",
    "\n",
    "* basic calculator\n",
    "* mad libs generator\n",
    "* password generator\n",
    "* rock paper scissors\n",
    "* simple quiz application\n",
    "* todo liat application\n",
    "* weather application"
   ]
  },
  {
   "cell_type": "markdown",
   "id": "18fdf958-5cb7-48f3-8866-3cfa540cb6f5",
   "metadata": {},
   "source": [
    "okay so most of these would benefit from an html frontend but we can write out the logic here and add buttons later \n",
    "\n",
    "\n",
    "im gonna start with rock paper scissors \n"
   ]
  },
  {
   "cell_type": "markdown",
   "id": "e7789e5a-4f23-43c2-940b-e0b08ddce205",
   "metadata": {},
   "source": [
    "# Rock Paper Scissors\n",
    "\n",
    "okay so random choice solution done but theres probably a better way, \n",
    "\n",
    "okay one simple way would be to take previous opponent choices into account sk keep a running list of player choices\n",
    "\n",
    "\n",
    "okay so whats a better in the moment coorilator besides inverse of opponent majority choices (thats pretty static)\n",
    "\n",
    "idk lets start with random apponent and then majority inverse and then go from there"
   ]
  },
  {
   "cell_type": "code",
   "execution_count": null,
   "id": "6da2107c-7152-465b-aae2-114501571052",
   "metadata": {},
   "outputs": [],
   "source": []
  }
 ],
 "metadata": {
  "kernelspec": {
   "display_name": "Python 3 (ipykernel)",
   "language": "python",
   "name": "python3"
  },
  "language_info": {
   "codemirror_mode": {
    "name": "ipython",
    "version": 3
   },
   "file_extension": ".py",
   "mimetype": "text/x-python",
   "name": "python",
   "nbconvert_exporter": "python",
   "pygments_lexer": "ipython3",
   "version": "3.12.10"
  }
 },
 "nbformat": 4,
 "nbformat_minor": 5
}
