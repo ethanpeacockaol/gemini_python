{
 "cells": [
  {
   "metadata": {},
   "id": "e7789e5a-4f23-43c2-940b-e0b08ddce205",
   "cell_type": "markdown",
   "source": "# Rock Paper Scissors 1.0\n\nHere is a simple rock paper scissors solution that gives you a rock paper scissors game to play against the computer\n\nIt is using random integers to do data chain selection and then coorelate that to a game move\n\nIts really simple and stupid in logic so it wont provide robust game play but it works so have fun and keep working on a better version!"
  },
  {
   "metadata": {},
   "id": "acc685a3-435c-4602-822e-203e2e49c69d",
   "cell_type": "markdown",
   "source": "# random rps"
  },
  {
   "metadata": {
    "trusted": true
   },
   "id": "d50d4598-e7a0-4f90-ac9a-fc9859cde5de",
   "cell_type": "code",
   "source": "import numpy as np\nchoices = [\"rock\", \"paper\", \"scissors\"]\n\ngo = True\ni = 0\nnum_moves = int(input(\"how many rounds of rock paper scissors?\"))\nwin = \"\"\nwins = 0\nties = 0\nlosses = 0\nwhile go:\n    ai_move = np.random.randint(0, 3)\n    ai_move = choices[ai_move]\n    move = input(\"rps?: \")\n    if move == \"r\" or move == \"R\":\n        move = \"rock\"\n    elif move == \"p\" or move == \"P\":\n        move = \"paper\"\n    elif move == \"s\" or move == \"S\":\n        move = \"scissors\"\n    elif move == \"quit\":\n        go = False\n        break\n    if move == \"rock\" and ai_move == \"rock\":\n        win = \"Tie\"\n        ties += 1\n    elif move == \"paper\" and ai_move == \"paper\":\n        win = \"Tie\"\n        ties += 1\n    elif move == \"scissors\" and ai_move == \"scissors\":\n        win = \"Tie\"\n        ties += 1\n    elif move == \"rock\" and ai_move == \"paper\":\n        win = \"Lose\"\n        losses += 1\n    elif move == \"rock\" and ai_move == \"scissors\":\n        win = \"Win\"\n        wins += 1\n    elif move == \"paper\" and ai_move == \"rock\":\n        win = \"Win\"\n        wins += 1\n    elif move == \"paper\" and ai_move == \"scissors\":\n        win = \"Lose\"\n        losses += 1\n    elif move == \"scissors\" and ai_move == \"rock\":\n        win = \"Lose\"\n        losses += 1\n    elif move == \"scissors\" and ai_move == \"paper\":\n        win = \"Win\"\n        wins += 1\n\n    i += 1\n    print(f\"{move} vs {ai_move}: you {win}\")\n    if i == num_moves:\n        go = False\n\nprint(f\"\\nRock Paper Scissors results:\\nNumber of rounds: {num_moves}\\nNumber of wins against AI: {wins}\\nNumber of losses: {losses}\\nNumber of ties: {ties}\")",
   "execution_count": 3,
   "outputs": [
    {
     "output_type": "stream",
     "name": "stdout",
     "text": "how many rounds of rock paper scissors?1\nrps?: R\nrock vs scissors: you Win\n\nRock Paper Scissors results:\nNumber of rounds: 1\nNumber of wins against AI: 1\nNumber of losses: 0\nNumber of ties: 0\n"
    }
   ]
  },
  {
   "metadata": {
    "trusted": true
   },
   "cell_type": "code",
   "source": "print(f\"{3}\")",
   "execution_count": 2,
   "outputs": [
    {
     "output_type": "stream",
     "text": "3\n",
     "name": "stdout"
    }
   ]
  },
  {
   "metadata": {
    "trusted": true
   },
   "cell_type": "code",
   "source": "",
   "execution_count": null,
   "outputs": []
  }
 ],
 "metadata": {
  "kernelspec": {
   "name": "python3",
   "display_name": "Python 3",
   "language": "python"
  },
  "language_info": {
   "name": "python",
   "version": "3.10.4",
   "mimetype": "text/x-python",
   "codemirror_mode": {
    "name": "ipython",
    "version": 3
   },
   "pygments_lexer": "ipython3",
   "nbconvert_exporter": "python",
   "file_extension": ".py"
  }
 },
 "nbformat": 4,
 "nbformat_minor": 5
}