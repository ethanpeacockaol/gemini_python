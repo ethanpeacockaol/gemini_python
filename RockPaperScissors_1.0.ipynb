{
 "cells": [
  {
   "cell_type": "markdown",
   "id": "e7789e5a-4f23-43c2-940b-e0b08ddce205",
   "metadata": {},
   "source": [
    "# Rock Paper Scissors 1.0\n",
    "\n",
    "Here is a simple rock paper scissors solution that gives you a rock paper scissors game to play against the computer\n",
    "\n",
    "It is using random integers to do data chain selection and then coorelate that to a game move\n",
    "\n",
    "Its really simple and stupid in logic so it wont provide robust game play but it works so have fun and keep working on a better version!"
   ]
  },
  {
   "cell_type": "markdown",
   "id": "acc685a3-435c-4602-822e-203e2e49c69d",
   "metadata": {},
   "source": [
    "# random rps"
   ]
  },
  {
   "cell_type": "code",
   "execution_count": 2,
   "id": "d50d4598-e7a0-4f90-ac9a-fc9859cde5de",
   "metadata": {},
   "outputs": [
    {
     "name": "stdin",
     "output_type": "stream",
     "text": [
      "how many rounds of rock paper scissors? 999\n",
      "rps?:  Hey what\n"
     ]
    },
    {
     "name": "stdout",
     "output_type": "stream",
     "text": [
      "Hey what vs rock: you \n"
     ]
    },
    {
     "name": "stdin",
     "output_type": "stream",
     "text": [
      "rps?:  Uhh oh - 2\n"
     ]
    },
    {
     "name": "stdout",
     "output_type": "stream",
     "text": [
      "Uhh oh - 2 vs paper: you \n"
     ]
    },
    {
     "name": "stdin",
     "output_type": "stream",
     "text": [
      "rps?:  R\n"
     ]
    },
    {
     "name": "stdout",
     "output_type": "stream",
     "text": [
      "rock vs rock: you Tie\n"
     ]
    },
    {
     "name": "stdin",
     "output_type": "stream",
     "text": [
      "rps?:  rock\n"
     ]
    },
    {
     "name": "stdout",
     "output_type": "stream",
     "text": [
      "rock vs scissors: you Win\n"
     ]
    },
    {
     "name": "stdin",
     "output_type": "stream",
     "text": [
      "rps?:  R\n"
     ]
    },
    {
     "name": "stdout",
     "output_type": "stream",
     "text": [
      "rock vs scissors: you Win\n"
     ]
    },
    {
     "name": "stdin",
     "output_type": "stream",
     "text": [
      "rps?:  p\n"
     ]
    },
    {
     "name": "stdout",
     "output_type": "stream",
     "text": [
      "paper vs paper: you Tie\n"
     ]
    },
    {
     "name": "stdin",
     "output_type": "stream",
     "text": [
      "rps?:  quit\n"
     ]
    },
    {
     "name": "stdout",
     "output_type": "stream",
     "text": [
      "\n",
      "Rock Paper Scissors results:\n",
      "Number of rounds: 999\n",
      "Number of wins against AI: 2\n",
      "Number of losses: 0\n",
      "Number of ties: 2\n"
     ]
    }
   ],
   "source": [
    "import numpy as np\n",
    "choices = [\"rock\", \"paper\", \"scissors\"]\n",
    "\n",
    "go = True\n",
    "num_rounds = 0\n",
    "num_moves = int(input(\"how many rounds of rock paper scissors?\"))\n",
    "win = \"\"\n",
    "wins = 0\n",
    "ties = 0\n",
    "losses = 0\n",
    "while go:\n",
    "    ai_move = np.random.randint(0, 3)\n",
    "    ai_move = choices[ai_move]\n",
    "    move = input(\"rps?: \")\n",
    "    if move == \"r\" or move == \"R\":\n",
    "        move = \"rock\"\n",
    "    elif move == \"p\" or move == \"P\":\n",
    "        move = \"paper\"\n",
    "    elif move == \"s\" or move == \"S\":\n",
    "        move = \"scissors\"\n",
    "    elif move == \"quit\":\n",
    "        go = False\n",
    "        break\n",
    "    if move == \"rock\" and ai_move == \"rock\":\n",
    "        win = \"Tie\"\n",
    "        ties += 1\n",
    "    elif move == \"paper\" and ai_move == \"paper\":\n",
    "        win = \"Tie\"\n",
    "        ties += 1\n",
    "    elif move == \"scissors\" and ai_move == \"scissors\":\n",
    "        win = \"Tie\"\n",
    "        ties += 1\n",
    "    elif move == \"rock\" and ai_move == \"paper\":\n",
    "        win = \"Lose\"\n",
    "        losses += 1\n",
    "    elif move == \"rock\" and ai_move == \"scissors\":\n",
    "        win = \"Win\"\n",
    "        wins += 1\n",
    "    elif move == \"paper\" and ai_move == \"rock\":\n",
    "        win = \"Win\"\n",
    "        wins += 1\n",
    "    elif move == \"paper\" and ai_move == \"scissors\":\n",
    "        win = \"Lose\"\n",
    "        losses += 1\n",
    "    elif move == \"scissors\" and ai_move == \"rock\":\n",
    "        win = \"Lose\"\n",
    "        losses += 1\n",
    "    elif move == \"scissors\" and ai_move == \"paper\":\n",
    "        win = \"Win\"\n",
    "        wins += 1\n",
    "\n",
    "    num_rounds += 1\n",
    "    print(f\"{move} vs {ai_move}: you {win}\")\n",
    "    if num_rounds == num_moves:\n",
    "        go = False\n",
    "\n",
    "print(f\"\\nRock Paper Scissors results:\\nNumber of rounds: {num_moves}\\nNumber of wins against AI: {wins}\\nNumber of losses: {losses}\\nNumber of ties: {ties}\")"
   ]
  },
  {
   "cell_type": "code",
   "execution_count": null,
   "id": "a6bf1227",
   "metadata": {},
   "outputs": [],
   "source": []
  },
  {
   "cell_type": "code",
   "execution_count": null,
   "id": "10ecec8e",
   "metadata": {},
   "outputs": [],
   "source": []
  }
 ],
 "metadata": {
  "kernelspec": {
   "display_name": "Python 3 (ipykernel)",
   "language": "python",
   "name": "python3"
  },
  "language_info": {
   "codemirror_mode": {
    "name": "ipython",
    "version": 3
   },
   "file_extension": ".py",
   "mimetype": "text/x-python",
   "name": "python",
   "nbconvert_exporter": "python",
   "pygments_lexer": "ipython3",
   "version": "3.12.11"
  }
 },
 "nbformat": 4,
 "nbformat_minor": 5
}
