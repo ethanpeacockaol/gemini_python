{
 "cells": [
  {
   "cell_type": "markdown",
   "id": "780296da-02e2-4aa5-82c8-8a1f2ed0291e",
   "metadata": {},
   "source": [
    "# Gemini Python Challenges\n",
    "\n",
    "* basic calculator\n",
    "* mad libs generator\n",
    "* password generator\n",
    "* rock paper scissors\n",
    "* simple quiz application\n",
    "* todo liat application\n",
    "* weather application"
   ]
  },
  {
   "cell_type": "markdown",
   "id": "18fdf958-5cb7-48f3-8866-3cfa540cb6f5",
   "metadata": {},
   "source": [
    "okay so most of these would benefit from an html frontend but we can write out the logic here and add buttons later \n",
    "\n",
    "\n",
    "im gonna start with rock paper scissors \n"
   ]
  },
  {
   "cell_type": "markdown",
   "id": "e7789e5a-4f23-43c2-940b-e0b08ddce205",
   "metadata": {},
   "source": [
    "# Rock Paper Scissors\n",
    "\n",
    "okay so random choice solution done but theres probably a better way, \n",
    "\n",
    "okay one simple way would be to take previous opponent choices into account sk keep a running list of player choices\n",
    "\n",
    "\n",
    "okay so whats a better in the moment coorilator besides inverse of opponent majority choices (thats pretty static)\n",
    "\n",
    "idk lets start with random apponent and then majority inverse and then go from there"
   ]
  },
  {
   "cell_type": "markdown",
   "id": "acc685a3-435c-4602-822e-203e2e49c69d",
   "metadata": {},
   "source": [
    "# random rps"
   ]
  },
  {
   "cell_type": "code",
   "execution_count": 6,
   "id": "d50d4598-e7a0-4f90-ac9a-fc9859cde5de",
   "metadata": {},
   "outputs": [
    {
     "name": "stdin",
     "output_type": "stream",
     "text": [
      "rps?:  quit\n"
     ]
    }
   ],
   "source": [
    "import numpy as np\n",
    "choices = [\"rock\", \"paper\", \"scissors\"]\n",
    "\n",
    "go = True\n",
    "i = 0\n",
    "while go:\n",
    "    ai_move = np.random.randint(0, 3)\n",
    "    ai_move = choices[ai_move]\n",
    "    move = input(\"rps?: \")\n",
    "    if move == \"quit\":\n",
    "        go = False\n",
    "        break\n",
    "    i += 1\n",
    "    print(f\"{move} vs {ai_move}\")\n",
    "    if i == 50 or move:\n",
    "        go = False\n",
    "        "
   ]
  },
  {
   "cell_type": "code",
   "execution_count": null,
   "id": "a6a35fa7-32bb-40af-9229-b12a0e8997a3",
   "metadata": {},
   "outputs": [],
   "source": []
  },
  {
   "cell_type": "code",
   "execution_count": null,
   "id": "5668dff8-c27d-4129-a9a9-6e265b6acc47",
   "metadata": {},
   "outputs": [],
   "source": []
  },
  {
   "cell_type": "code",
   "execution_count": null,
   "id": "454f25f2-8b8a-4468-ac09-0d4412571b76",
   "metadata": {},
   "outputs": [],
   "source": []
  }
 ],
 "metadata": {
  "kernelspec": {
   "display_name": "Python 3 (ipykernel)",
   "language": "python",
   "name": "python3"
  },
  "language_info": {
   "codemirror_mode": {
    "name": "ipython",
    "version": 3
   },
   "file_extension": ".py",
   "mimetype": "text/x-python",
   "name": "python",
   "nbconvert_exporter": "python",
   "pygments_lexer": "ipython3",
   "version": "3.13.3"
  }
 },
 "nbformat": 4,
 "nbformat_minor": 5
}
