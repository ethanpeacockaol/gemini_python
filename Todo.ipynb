{
 "cells": [
  {
   "cell_type": "markdown",
   "id": "780296da-02e2-4aa5-82c8-8a1f2ed0291e",
   "metadata": {},
   "source": [
    "# Gemini Python Challenges\n",
    "\n",
    "* basic calculator\n",
    "* mad libs generator\n",
    "* password generator\n",
    "* rock paper scissors\n",
    "* simple quiz application\n",
    "* todo liat application\n",
    "* weather application"
   ]
  },
  {
   "cell_type": "markdown",
   "id": "18fdf958-5cb7-48f3-8866-3cfa540cb6f5",
   "metadata": {},
   "source": [
    "okay so most of these would benefit from an html frontend but we can write out the logic here and add buttons later \n",
    "\n",
    "\n",
    "im gonna start with rock paper scissors \n"
   ]
  },
  {
   "cell_type": "markdown",
   "id": "e7789e5a-4f23-43c2-940b-e0b08ddce205",
   "metadata": {},
   "source": [
    "# Rock Paper Scissors\n",
    "\n",
    "okay so random choice solution done but theres probably a better way, \n",
    "\n",
    "okay one simple way would be to take previous opponent choices into account sk keep a running list of player choices\n",
    "\n",
    "\n",
    "okay so whats a better in the moment coorilator besides inverse of opponent majority choices (thats pretty static)\n",
    "\n",
    "idk lets start with random apponent and then majority inverse and then go from there"
   ]
  },
  {
   "cell_type": "markdown",
   "id": "acc685a3-435c-4602-822e-203e2e49c69d",
   "metadata": {},
   "source": [
    "# random rps"
   ]
  },
  {
   "cell_type": "code",
   "execution_count": 20,
   "id": "d50d4598-e7a0-4f90-ac9a-fc9859cde5de",
   "metadata": {},
   "outputs": [
    {
     "name": "stdin",
     "output_type": "stream",
     "text": [
      "how many rounds of rock paper scissors? 10\n",
      "rps?:  r\n"
     ]
    },
    {
     "name": "stdout",
     "output_type": "stream",
     "text": [
      "rock vs paper: you Lose\n"
     ]
    },
    {
     "name": "stdin",
     "output_type": "stream",
     "text": [
      "rps?:  r\n"
     ]
    },
    {
     "name": "stdout",
     "output_type": "stream",
     "text": [
      "rock vs scissors: you Win\n"
     ]
    },
    {
     "name": "stdin",
     "output_type": "stream",
     "text": [
      "rps?:  p\n"
     ]
    },
    {
     "name": "stdout",
     "output_type": "stream",
     "text": [
      "paper vs scissors: you Lose\n"
     ]
    },
    {
     "name": "stdin",
     "output_type": "stream",
     "text": [
      "rps?:  p\n"
     ]
    },
    {
     "name": "stdout",
     "output_type": "stream",
     "text": [
      "paper vs scissors: you Lose\n"
     ]
    },
    {
     "name": "stdin",
     "output_type": "stream",
     "text": [
      "rps?:  r\n"
     ]
    },
    {
     "name": "stdout",
     "output_type": "stream",
     "text": [
      "rock vs scissors: you Win\n"
     ]
    },
    {
     "name": "stdin",
     "output_type": "stream",
     "text": [
      "rps?:  s\n"
     ]
    },
    {
     "name": "stdout",
     "output_type": "stream",
     "text": [
      "scissors vs paper: you Win\n"
     ]
    },
    {
     "name": "stdin",
     "output_type": "stream",
     "text": [
      "rps?:  s\n"
     ]
    },
    {
     "name": "stdout",
     "output_type": "stream",
     "text": [
      "scissors vs scissors: you Tie\n"
     ]
    },
    {
     "name": "stdin",
     "output_type": "stream",
     "text": [
      "rps?:  p\n"
     ]
    },
    {
     "name": "stdout",
     "output_type": "stream",
     "text": [
      "paper vs rock: you Win\n"
     ]
    },
    {
     "name": "stdin",
     "output_type": "stream",
     "text": [
      "rps?:  r\n"
     ]
    },
    {
     "name": "stdout",
     "output_type": "stream",
     "text": [
      "rock vs rock: you Tie\n"
     ]
    },
    {
     "name": "stdin",
     "output_type": "stream",
     "text": [
      "rps?:  r\n"
     ]
    },
    {
     "name": "stdout",
     "output_type": "stream",
     "text": [
      "rock vs scissors: you Win\n",
      "\n",
      "Rock Paper Scissors results:\n",
      "Number of rounds: 10\n",
      "Number of wins against AI: 5\n"
     ]
    }
   ],
   "source": [
    "# import numpy as np\n",
    "choices = [\"rock\", \"paper\", \"scissors\"]\n",
    "\n",
    "go = True\n",
    "i = 0\n",
    "num_moves = int(input(\"how many rounds of rock paper scissors?\"))\n",
    "win = \"\"\n",
    "wins = 0\n",
    "while go:\n",
    "    ai_move = np.random.randint(0, 3)\n",
    "    ai_move = choices[ai_move]\n",
    "    move = input(\"rps?: \")\n",
    "    if move == \"r\":\n",
    "        move = \"rock\"\n",
    "    elif move == \"p\":\n",
    "        move = \"paper\"\n",
    "    elif move == \"s\":\n",
    "        move = \"scissors\"\n",
    "    elif move == \"quit\":\n",
    "        go = False\n",
    "        break\n",
    "    if move == \"rock\" and ai_move == \"rock\":\n",
    "        win = \"Tie\"\n",
    "    elif move == \"paper\" and ai_move == \"paper\":\n",
    "        win = \"Tie\"\n",
    "    elif move == \"scissors\" and ai_move == \"scissors\":\n",
    "        win = \"Tie\"\n",
    "    elif move == \"rock\" and ai_move == \"paper\":\n",
    "        win = \"Lose\"\n",
    "    elif move == \"rock\" and ai_move == \"scissors\":\n",
    "        win = \"Win\"\n",
    "        wins += 1\n",
    "    elif move == \"paper\" and ai_move == \"rock\":\n",
    "        win = \"Win\"\n",
    "        wins += 1\n",
    "    elif move == \"paper\" and ai_move == \"scissors\":\n",
    "        win = \"Lose\"\n",
    "    elif move == \"scissors\" and ai_move == \"rock\":\n",
    "        win = \"Lose\"\n",
    "    elif move == \"scissors\" and ai_move == \"paper\":\n",
    "        win = \"Win\"\n",
    "        wins += 1\n",
    "    i += 1\n",
    "    print(f\"{move} vs {ai_move}: you {win}\")\n",
    "    if i == num_moves:\n",
    "        go = False\n",
    "\n",
    "print(f\"\\nRock Paper Scissors results:\\nNumber of rounds: {num_moves}\\nNumber of wins against AI: {wins}\")"
   ]
  }
 ],
 "metadata": {
  "kernelspec": {
   "display_name": "Python 3 (ipykernel)",
   "language": "python",
   "name": "python3"
  },
  "language_info": {
   "codemirror_mode": {
    "name": "ipython",
    "version": 3
   },
   "file_extension": ".py",
   "mimetype": "text/x-python",
   "name": "python",
   "nbconvert_exporter": "python",
   "pygments_lexer": "ipython3",
   "version": "3.13.3"
  }
 },
 "nbformat": 4,
 "nbformat_minor": 5
}
